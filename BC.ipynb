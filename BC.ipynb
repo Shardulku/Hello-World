{
  "nbformat": 4,
  "nbformat_minor": 0,
  "metadata": {
    "colab": {
      "provenance": [],
      "include_colab_link": true
    },
    "kernelspec": {
      "name": "python3",
      "display_name": "Python 3"
    },
    "language_info": {
      "name": "python"
    }
  },
  "cells": [
    {
      "cell_type": "markdown",
      "metadata": {
        "id": "view-in-github",
        "colab_type": "text"
      },
      "source": [
        "<a href=\"https://colab.research.google.com/github/Shardulku/Hello-World/blob/master/BC.ipynb\" target=\"_parent\"><img src=\"https://colab.research.google.com/assets/colab-badge.svg\" alt=\"Open In Colab\"/></a>"
      ]
    },
    {
      "cell_type": "markdown",
      "source": [
        "**CAESAR** **CIPHER** **Code**"
      ],
      "metadata": {
        "id": "tKbmRZKiApg7"
      }
    },
    {
      "cell_type": "code",
      "execution_count": null,
      "metadata": {
        "colab": {
          "base_uri": "https://localhost:8080/"
        },
        "id": "tWweGAZl89fP",
        "outputId": "8663e185-9b66-4e73-f215-22a499f1f5a8"
      },
      "outputs": [
        {
          "output_type": "stream",
          "name": "stdout",
          "text": [
            "\n",
            "['c', 'b', 'e', 'F', 'G', 'H']\n",
            "\n",
            "\n",
            "['a', 'z', 'c', 'D', 'E', 'F']\n",
            "\n"
          ]
        }
      ],
      "source": [
        "def caesar_encrypt(realText, step):\n",
        "  outText = []\n",
        "  cryptText = []\n",
        "  uppercase = ['A', 'B', 'C', 'D', 'E', 'F', 'G', 'H', 'I', 'J', 'K', 'L',\n",
        "  'M', 'N', 'O', 'P', 'Q', 'R', 'S', 'T', 'U', 'V', 'W', 'X', 'Y', 'Z']\n",
        "  lowercase = ['a', 'b', 'c', 'd', 'e', 'f', 'g', 'h', 'i', 'j', 'k', 'l',\n",
        "  'm', 'n', 'o', 'p', 'q', 'r', 's', 't', 'u', 'v', 'w', 'x', 'y', 'z']\n",
        "  for eachLetter in realText:\n",
        "    if eachLetter in uppercase:\n",
        "      index = uppercase.index(eachLetter)\n",
        "      crypting = (index + step) % 26\n",
        "      cryptText.append(crypting)\n",
        "      newLetter = uppercase[crypting]\n",
        "      outText.append(newLetter)\n",
        "    elif eachLetter in lowercase:\n",
        "      index = lowercase.index(eachLetter)\n",
        "      crypting = (index + step) % 26\n",
        "      cryptText.append(crypting)\n",
        "      newLetter = lowercase[crypting]\n",
        "      outText.append(newLetter)\n",
        "  return outText\n",
        "\n",
        "encode = caesar_encrypt('azcDEF', 2)\n",
        "print()\n",
        "print(encode)\n",
        "print()\n",
        "decode = caesar_encrypt(caesar_encrypt('azcDEF',2),26-2)\n",
        "print()\n",
        "print(decode)\n",
        "print()"
      ]
    },
    {
      "cell_type": "markdown",
      "source": [
        "**RSA ALGO**"
      ],
      "metadata": {
        "id": "kUnyBy8uBMph"
      }
    },
    {
      "cell_type": "code",
      "source": [
        "import math\n",
        "\n",
        "def gcd(a, h):\n",
        "\ttemp = 0\n",
        "\twhile(1):\n",
        "\t\ttemp = a % h\n",
        "\t\tif (temp == 0):\n",
        "\t\t\treturn h\n",
        "\t\ta = h\n",
        "\t\th = temp\n",
        "\n",
        "\n",
        "p = 3\n",
        "q = 7\n",
        "n = p*q\n",
        "e = 2\n",
        "phi = (p-1)*(q-1)\n",
        "\n",
        "while (e < phi):\n",
        "\n",
        "\t# e must be co-prime to phi and\n",
        "\t# smaller than phi.\n",
        "\tif(gcd(e, phi) == 1):\n",
        "\t\tbreak\n",
        "\telse:\n",
        "\t\te = e+1\n",
        "\n",
        "# Private key (d stands for decrypt)\n",
        "# choosing d such that it satisfies\n",
        "# d*e = 1 + k * totient\n",
        "\n",
        "k = 2\n",
        "d = (1 + (k*phi))/e\n",
        "\n",
        "# Message to be encrypted\n",
        "msg = 12.0\n",
        "\n",
        "print(\"Message data = \", msg)\n",
        "\n",
        "# Encryption c = (msg ^ e) % n\n",
        "c = pow(msg, e)\n",
        "c = math.fmod(c, n)\n",
        "print(\"Encrypted data = \", c)\n",
        "\n",
        "# Decryption m = (c ^ d) % n\n",
        "m = pow(c, d)\n",
        "m = math.fmod(m, n)\n",
        "print(\"Original Message Sent = \", m)\n"
      ],
      "metadata": {
        "colab": {
          "base_uri": "https://localhost:8080/"
        },
        "id": "J1sZ5S5uAvUG",
        "outputId": "e70bd99a-9c81-41a1-cf73-aa09130fa50b"
      },
      "execution_count": null,
      "outputs": [
        {
          "output_type": "stream",
          "name": "stdout",
          "text": [
            "Message data =  12.0\n",
            "Encrypted data =  3.0\n",
            "Original Message Sent =  12.0\n"
          ]
        }
      ]
    },
    {
      "cell_type": "markdown",
      "source": [
        "**SHA ALGO**"
      ],
      "metadata": {
        "id": "cyAPsXvGKPuC"
      }
    },
    {
      "cell_type": "code",
      "source": [
        "import hashlib\n",
        "\n",
        "string=\"Saroj Panda\"\n",
        "encoded=string.encode()\n",
        "result = hashlib.sha256(encoded)\n",
        "print(\"String : \", end =\"\")\n",
        "print(string)\n",
        "print(\"Hash Value : \", end =\"\")\n",
        "print(result)\n",
        "print(\"Hexadecimal equivalent: \",result.hexdigest())\n",
        "print(\"Digest Size : \", end =\"\")\n",
        "print(result.digest_size)\n",
        "print(\"Block Size : \", end =\"\")\n",
        "print(result.block_size)\n"
      ],
      "metadata": {
        "colab": {
          "base_uri": "https://localhost:8080/"
        },
        "id": "yL1kUYNWKUwa",
        "outputId": "262d0b9b-2a87-43d1-c74b-ed1d8cececad"
      },
      "execution_count": null,
      "outputs": [
        {
          "output_type": "stream",
          "name": "stdout",
          "text": [
            "String : Saroj Panda\n",
            "Hash Value : <sha256 HASH object @ 0x7f7bec40ccf0>\n",
            "Hexadecimal equivalent:  3c261c9e8363126f8b153da92d7b1aa2feee8ff13a1c56b03f374218b7ceb041\n",
            "Digest Size : 32\n",
            "Block Size : 64\n"
          ]
        }
      ]
    },
    {
      "cell_type": "markdown",
      "source": [
        "**MERKLE TREE ALGO**"
      ],
      "metadata": {
        "id": "h9DxKxJDMCSf"
      }
    },
    {
      "cell_type": "code",
      "source": [
        "# Python code for implemementing Merkle Tree\n",
        "from typing import List\n",
        "import hashlib\n",
        "class Node:\n",
        "\tdef __init__(self, left, right, value: str, content, is_copied=False) -> None:\n",
        "\t\tself.left: Node = left\n",
        "\t\tself.right: Node = right\n",
        "\t\tself.value = value\n",
        "\t\tself.content = content\n",
        "\t\tself.is_copied = is_copied\n",
        "\t\t\n",
        "\t@staticmethod\n",
        "\tdef hash(val: str) -> str:\n",
        "\t\treturn hashlib.sha256(val.encode('utf-8')).hexdigest()\n",
        "\n",
        "\tdef __str__(self):\n",
        "\t\treturn (str(self.value))\n",
        "\n",
        "\tdef copy(self):\n",
        "\t\t\"\"\"\n",
        "\t\tclass copy function\n",
        "\t\t\"\"\"\n",
        "\t\treturn Node(self.left, self.right, self.value, self.content, True)\n",
        "\t\n",
        "class MerkleTree:\n",
        "\tdef __init__(self, values: List[str]) -> None:\n",
        "\t\tself.__buildTree(values)\n",
        "\n",
        "\tdef __buildTree(self, values: List[str]) -> None:\n",
        "\n",
        "\t\tleaves: List[Node] = [Node(None, None, Node.hash(e), e) for e in values]\n",
        "\t\tif len(leaves) % 2 == 1:\n",
        "\t\t\tleaves.append(leaves[-1].copy()) # duplicate last elem if odd number of elements\n",
        "\t\tself.root: Node = self.__buildTreeRec(leaves)\n",
        "\n",
        "\tdef __buildTreeRec(self, nodes: List[Node]) -> Node:\n",
        "\t\tif len(nodes) % 2 == 1:\n",
        "\t\t\tnodes.append(nodes[-1].copy()) # duplicate last elem if odd number of elements\n",
        "\t\thalf: int = len(nodes) // 2\n",
        "\n",
        "\t\tif len(nodes) == 2:\n",
        "\t\t\treturn Node(nodes[0], nodes[1], Node.hash(nodes[0].value + nodes[1].value), nodes[0].content+\"+\"+nodes[1].content)\n",
        "\n",
        "\t\tleft: Node = self.__buildTreeRec(nodes[:half])\n",
        "\t\tright: Node = self.__buildTreeRec(nodes[half:])\n",
        "\t\tvalue: str = Node.hash(left.value + right.value)\n",
        "\t\tcontent: str = f'{left.content}+{right.content}'\n",
        "\t\treturn Node(left, right, value, content)\n",
        "\n",
        "\tdef printTree(self) -> None:\n",
        "\t\tself.__printTreeRec(self.root)\n",
        "\t\t\n",
        "\tdef __printTreeRec(self, node: Node) -> None:\n",
        "\t\tif node != None:\n",
        "\t\t\tif node.left != None:\n",
        "\t\t\t\tprint(\"Left: \"+str(node.left))\n",
        "\t\t\t\tprint(\"Right: \"+str(node.right))\n",
        "\t\t\telse:\n",
        "\t\t\t\tprint(\"Input\")\n",
        "\t\t\t\t\n",
        "\t\t\tif node.is_copied:\n",
        "\t\t\t\tprint('(Padding)')\n",
        "\t\t\tprint(\"Value: \"+str(node.value))\n",
        "\t\t\tprint(\"Content: \"+str(node.content))\n",
        "\t\t\tprint(\"\")\n",
        "\t\t\tself.__printTreeRec(node.left)\n",
        "\t\t\tself.__printTreeRec(node.right)\n",
        "\n",
        "\tdef getRootHash(self) -> str:\n",
        "\t return self.root.value\n",
        "\n",
        "def mixmerkletree() -> None:\n",
        "\telems = [\"Saroj\", \"A\", \"Computer\", \"Science\", \"Portal\", \"For\", \"Geeks\"]\n",
        "\t#as there are odd number of inputs, the last input is repeated\n",
        "\tprint(\"Inputs: \")\n",
        "\tprint(*elems, sep=\" | \")\n",
        "\tprint(\"\")\n",
        "\tmtree = MerkleTree(elems)\n",
        "\tprint(\"Root Hash: \"+mtree.getRootHash()+\"\\n\")\n",
        "\tmtree.printTree()\n",
        "\n",
        "\n",
        "mixmerkletree()\n"
      ],
      "metadata": {
        "colab": {
          "base_uri": "https://localhost:8080/"
        },
        "id": "YUGUaltgMG_D",
        "outputId": "b59282a0-b501-4f3d-8829-5e6afdeca96f"
      },
      "execution_count": null,
      "outputs": [
        {
          "output_type": "stream",
          "name": "stdout",
          "text": [
            "Inputs: \n",
            "Saroj | A | Computer | Science | Portal | For | Geeks\n",
            "\n",
            "Root Hash: 67fc388a2eb27145c2a0309c1f46aae45fa17503ff7ecd085e2fa4f55258e6a2\n",
            "\n",
            "Left: 7ccfae13f247b01b7d1bc9af28447aeb48a720aaf1ba556c3467cc0a00441347\n",
            "Right: 4fcfb77eaf9a279c4ff2d20171c1626c2823a82a2cec1ddc0c23dbcb48822e80\n",
            "Value: 67fc388a2eb27145c2a0309c1f46aae45fa17503ff7ecd085e2fa4f55258e6a2\n",
            "Content: Saroj+A+Computer+Science+Portal+For+Geeks+Geeks\n",
            "\n",
            "Left: 679069c3a6dc52137ec405ffe99d9d981afa86aa12851f3812098de1cba263db\n",
            "Right: c1f7a2fa8036542d510c06938f4430c389f987f7d12e8a5de7ed406485865f75\n",
            "Value: 7ccfae13f247b01b7d1bc9af28447aeb48a720aaf1ba556c3467cc0a00441347\n",
            "Content: Saroj+A+Computer+Science\n",
            "\n",
            "Left: dfbd24fd9b4e645b5100e09bdba5bb302e4755d65aab04d2f43a6666060d911a\n",
            "Right: 559aead08264d5795d3909718cdd05abd49572e84fe55590eef31a88a08fdffd\n",
            "Value: 679069c3a6dc52137ec405ffe99d9d981afa86aa12851f3812098de1cba263db\n",
            "Content: Saroj+A\n",
            "\n",
            "Input\n",
            "Value: dfbd24fd9b4e645b5100e09bdba5bb302e4755d65aab04d2f43a6666060d911a\n",
            "Content: Saroj\n",
            "\n",
            "Input\n",
            "Value: 559aead08264d5795d3909718cdd05abd49572e84fe55590eef31a88a08fdffd\n",
            "Content: A\n",
            "\n",
            "Left: 76ed42d22129dc354362704eb4b54208041b68736f976932aada43bc0035f7c0\n",
            "Right: 9d948c73e0ad7a5a213a5e7e00b962531ca6b07992a06bd8c2fc2ac5ae23c51b\n",
            "Value: c1f7a2fa8036542d510c06938f4430c389f987f7d12e8a5de7ed406485865f75\n",
            "Content: Computer+Science\n",
            "\n",
            "Input\n",
            "Value: 76ed42d22129dc354362704eb4b54208041b68736f976932aada43bc0035f7c0\n",
            "Content: Computer\n",
            "\n",
            "Input\n",
            "Value: 9d948c73e0ad7a5a213a5e7e00b962531ca6b07992a06bd8c2fc2ac5ae23c51b\n",
            "Content: Science\n",
            "\n",
            "Left: 67da93d6580ec1ef25cd9589147fcf93c7612f1063c37e92b0c441627afdd8bb\n",
            "Right: 9855c9f31157005f7f2ff1c7ca91a628f9ed881e2d784cb9cd85f3d5d04a6489\n",
            "Value: 4fcfb77eaf9a279c4ff2d20171c1626c2823a82a2cec1ddc0c23dbcb48822e80\n",
            "Content: Portal+For+Geeks+Geeks\n",
            "\n",
            "Left: b65ffe0cec61786d5d090268b99a14a807101d847fe4f5fbb4daa2764b73cd84\n",
            "Right: ca15ebc05a3c5c1348753b209c4452c54022dbe565d9943b11c795e3af9eb0b0\n",
            "Value: 67da93d6580ec1ef25cd9589147fcf93c7612f1063c37e92b0c441627afdd8bb\n",
            "Content: Portal+For\n",
            "\n",
            "Input\n",
            "Value: b65ffe0cec61786d5d090268b99a14a807101d847fe4f5fbb4daa2764b73cd84\n",
            "Content: Portal\n",
            "\n",
            "Input\n",
            "Value: ca15ebc05a3c5c1348753b209c4452c54022dbe565d9943b11c795e3af9eb0b0\n",
            "Content: For\n",
            "\n",
            "Left: 0c0dcd8c8d8c6c0dfba6677e1e11076ff864f3351e3cbd1a6c9571269b4d655d\n",
            "Right: 0c0dcd8c8d8c6c0dfba6677e1e11076ff864f3351e3cbd1a6c9571269b4d655d\n",
            "Value: 9855c9f31157005f7f2ff1c7ca91a628f9ed881e2d784cb9cd85f3d5d04a6489\n",
            "Content: Geeks+Geeks\n",
            "\n",
            "Input\n",
            "Value: 0c0dcd8c8d8c6c0dfba6677e1e11076ff864f3351e3cbd1a6c9571269b4d655d\n",
            "Content: Geeks\n",
            "\n",
            "Input\n",
            "(Padding)\n",
            "Value: 0c0dcd8c8d8c6c0dfba6677e1e11076ff864f3351e3cbd1a6c9571269b4d655d\n",
            "Content: Geeks\n",
            "\n"
          ]
        }
      ]
    },
    {
      "cell_type": "markdown",
      "source": [
        "**ALTERNATIVE MERKLE TREE**"
      ],
      "metadata": {
        "id": "5woIfjEkOl49"
      }
    },
    {
      "cell_type": "code",
      "source": [
        "import merkletools\n",
        "from merkletools import MerkleTools\n",
        "mt = MerkleTools(hash_type=\"md5\") # default is sha256\n",
        "hex_data = '05ae04314577b2783b4be98211d1b72476c59e9c413cfb2afa2f0c68e0d93911'\n",
        "list_data = ['Some text data', 'perhaps']\n",
        "mt.add_leaf(hex_data)\n",
        "mt.add_leaf(list_data, True)\n",
        "mt.make_tree();\n",
        "print(mt)\n",
        "leaf_count = mt.get_leaf_count();\n",
        "print(leaf_count)\n",
        "leaf_value = mt.get_leaf(1)\n",
        "print(leaf_value)\n",
        "root_value = mt.get_merkle_root();\n",
        "print(root_value)\n",
        "proof = mt.get_proof(1)\n",
        "print(proof)"
      ],
      "metadata": {
        "colab": {
          "base_uri": "https://localhost:8080/"
        },
        "id": "JOgI9k6JOrN3",
        "outputId": "ac14c13b-311f-417b-a135-5cd8f982860e"
      },
      "execution_count": null,
      "outputs": [
        {
          "output_type": "stream",
          "name": "stdout",
          "text": [
            "<merkletools.MerkleTools object at 0x7f7bf658d450>\n",
            "3\n",
            "2648734ab0eea049cac0f306ebeb3e8b\n",
            "81ac4904e51238779f62d7a106fb355a\n",
            "[{'left': '05ae04314577b2783b4be98211d1b72476c59e9c413cfb2afa2f0c68e0d93911'}, {'right': '48643de4e709ff78a8f7ce1ba36878b2'}]\n"
          ]
        }
      ]
    }
  ]
}